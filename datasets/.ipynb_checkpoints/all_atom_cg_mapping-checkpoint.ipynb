{
 "cells": [
  {
   "cell_type": "markdown",
   "metadata": {},
   "source": [
    "Hallucination of integrin activation pathways using nonlinear manifold learning and deep generative modeling\n",
    "\n",
    "All atom to 300 bead CG mapping\n",
    "\n",
    "SD\n",
    "\n",
    "---"
   ]
  },
  {
   "cell_type": "markdown",
   "metadata": {},
   "source": [
    "Imports"
   ]
  },
  {
   "cell_type": "code",
   "execution_count": 2,
   "metadata": {},
   "outputs": [
    {
     "name": "stdout",
     "output_type": "stream",
     "text": [
      "no display found. Using non-interactive Agg backend\n"
     ]
    },
    {
     "data": {
      "application/vnd.jupyter.widget-view+json": {
       "model_id": "231c89ca2e4b4ea2b46287df3241e96d",
       "version_major": 2,
       "version_minor": 0
      },
      "text/plain": []
     },
     "metadata": {},
     "output_type": "display_data"
    }
   ],
   "source": [
    "import os\n",
    "import sys\n",
    "import math\n",
    "import time\n",
    "import pickle\n",
    "import copy\n",
    "import mdtraj\n",
    "import MDAnalysis as mda\n",
    "import networkx as nx\n",
    "import random\n",
    "import acpype\n",
    "import pandas as pd\n",
    "from MDAnalysis.analysis import distances\n",
    "\n",
    "\n",
    "import numpy as np\n",
    "from scipy.linalg import eigh\n",
    "from scipy.spatial.distance import pdist\n",
    "from scipy.interpolate import interp1d\n",
    "import matplotlib as mpl\n",
    "from matplotlib import ticker\n",
    "if os.environ.get('DISPLAY','') == '':\n",
    "    print('no display found. Using non-interactive Agg backend')\n",
    "    mpl.use('Agg')\n",
    "import matplotlib.pyplot as plt\n",
    "from mpl_toolkits.mplot3d import Axes3D\n",
    "\n",
    "from tqdm import tqdm\n",
    "from sklearn.preprocessing import MinMaxScaler\n",
    "\n",
    "from jax import numpy as jnp, jit, vmap\n",
    "from MDAnalysis.analysis import rms #diffusionmap, align, rms\n",
    "\n",
    "import nglview as nv\n",
    "import io\n",
    "from PIL import Image "
   ]
  },
  {
   "cell_type": "code",
   "execution_count": null,
   "metadata": {},
   "outputs": [],
   "source": []
  },
  {
   "cell_type": "markdown",
   "metadata": {},
   "source": [
    "plot settings"
   ]
  },
  {
   "cell_type": "code",
   "execution_count": 3,
   "metadata": {},
   "outputs": [],
   "source": [
    "showPlots=1\n",
    "useMagics=1\n",
    "if useMagics:\n",
    "    %matplotlib inline\n",
    "    #%matplotlib notebook\n",
    "    %load_ext autoreload\n",
    "    %autoreload 2\n",
    "    %reload_ext autoreload\n",
    "    \n",
    "font = {'weight' : 'normal',\n",
    "        'size'   : 25}\n",
    "\n",
    "plt.rc('font', **font)"
   ]
  },
  {
   "cell_type": "code",
   "execution_count": null,
   "metadata": {},
   "outputs": [],
   "source": []
  },
  {
   "cell_type": "code",
   "execution_count": null,
   "metadata": {},
   "outputs": [],
   "source": []
  },
  {
   "cell_type": "markdown",
   "metadata": {},
   "source": [
    "load all-atom integrin trajectories (different integrin type)"
   ]
  },
  {
   "cell_type": "code",
   "execution_count": 9,
   "metadata": {},
   "outputs": [],
   "source": [
    "universe_aa_trajs = [] # dictionary may be better than list.\n",
    "\n",
    "for rep in ['bent', 'int1', 'int2', 'open']:\n",
    "\n",
    "    file_aa_traj_bent = '../../../integrin/all-atom/' + rep + '_0_500_ns.pdb'\n",
    "\n",
    "    universe_aa_trajs.append( mda.Universe(file_aa_traj_bent) )\n",
    "    \n"
   ]
  },
  {
   "cell_type": "code",
   "execution_count": 5,
   "metadata": {},
   "outputs": [
    {
     "data": {
      "text/plain": [
       "1770"
      ]
     },
     "execution_count": 5,
     "metadata": {},
     "output_type": "execute_result"
    }
   ],
   "source": [
    "# check universe\n",
    "universe_aa_trajs[0].atoms.n_atoms"
   ]
  },
  {
   "cell_type": "code",
   "execution_count": null,
   "metadata": {},
   "outputs": [],
   "source": []
  },
  {
   "cell_type": "markdown",
   "metadata": {},
   "source": [
    "#### visualize all-atom trajectories"
   ]
  },
  {
   "cell_type": "code",
   "execution_count": 7,
   "metadata": {},
   "outputs": [
    {
     "data": {
      "application/vnd.jupyter.widget-view+json": {
       "model_id": "4e008a76366d4b5399f03dbb4f399121",
       "version_major": 2,
       "version_minor": 0
      },
      "text/plain": [
       "NGLWidget(max_frame=5171)"
      ]
     },
     "metadata": {},
     "output_type": "display_data"
    }
   ],
   "source": [
    "view = nv.show_mdanalysis(universe_aa_trajs[3])\n",
    "\n",
    "# clear representations\n",
    "view.clear_representations()\n",
    "\n",
    "#view.add_representation('spacefill')\n",
    "view._remote_call(\"setSize\", target=\"Widget\", args=[\"1000px\", \"500px\"])\n",
    "#?view.center_view()\n",
    "\n",
    "# specify color\n",
    "#view.add_representation('spacefill', selection=np.arange(1008), color='blue', radius=1.5, opacity=0.85)\n",
    "#view.add_representation('spacefill', selection=np.arange(1008,1770), color='red', radius=1.5, opacity=0.85)\n",
    "view.add_representation('cartoon', color='black')\n",
    "\n",
    "view"
   ]
  },
  {
   "cell_type": "code",
   "execution_count": null,
   "metadata": {},
   "outputs": [],
   "source": []
  },
  {
   "cell_type": "markdown",
   "metadata": {},
   "source": [
    "Generate 300 bead CG trajectory from all atom trajectory"
   ]
  },
  {
   "cell_type": "code",
   "execution_count": 8,
   "metadata": {},
   "outputs": [],
   "source": [
    "### create a universe for CG model [from example in MDAnalysis]\n",
    "\n",
    "n_residues = 300\n",
    "n_atoms = n_residues\n",
    "\n",
    "# create resindex list\n",
    "resindices = np.arange(n_residues)\n",
    "\n",
    "# all water molecules belong to 1 segment\n",
    "segindices = [0] * n_residues\n",
    "\n",
    "# create the Universe\n",
    "cg_universe = mda.Universe.empty(n_atoms,\n",
    "                                 n_residues=n_residues,\n",
    "                                 atom_resindex=resindices,\n",
    "                                 residue_segindex=segindices,\n",
    "                                 trajectory=True) # necessary for adding coordinates"
   ]
  },
  {
   "cell_type": "code",
   "execution_count": null,
   "metadata": {},
   "outputs": [],
   "source": []
  },
  {
   "cell_type": "code",
   "execution_count": 10,
   "metadata": {},
   "outputs": [],
   "source": [
    "### topology attributes\n",
    "from MDAnalysis.coordinates.memory import MemoryReader\n",
    "\n",
    "cg_universe.add_TopologyAttr('name', ['CG']*n_residues)\n",
    "cg_universe.add_TopologyAttr('type', ['CG']*n_residues)\n",
    "cg_universe.add_TopologyAttr('resid', list(range(1, n_residues+1)))\n",
    "cg_universe.add_TopologyAttr('segid', ['INT'])\n",
    "\n",
    "####\n",
    "select_map = 'ba_open' # Select mapping\n",
    "universe_index = 3 # Select state (0-bent, 1-int 1, 2-int 2, 3-open)\n",
    "\n",
    "aa_cg_map = pd.read_csv('../../../integrin/all-atom/' + select_map + '.dat', names=['map'])\n",
    "\n",
    "k = 0\n",
    "cg_traj_pos = []\n",
    "\n",
    "cg_pos_frame_0 = []\n",
    "for i in range(1, 301):\n",
    "    \n",
    "    idx = np.where(aa_cg_map.map == i)\n",
    "        \n",
    "    cg_pos_frame_0.append( universe_aa_trajs[universe_index].trajectory[0].positions[idx].mean(axis=0) )\n",
    "        \n",
    "\n",
    "cg_pos_frame_0 = np.array(cg_pos_frame_0)\n",
    "\n",
    "cg_universe.atoms.positions = cg_pos_frame_0"
   ]
  },
  {
   "cell_type": "code",
   "execution_count": null,
   "metadata": {},
   "outputs": [],
   "source": []
  },
  {
   "cell_type": "markdown",
   "metadata": {},
   "source": [
    "visualize 300 bead CG example structure"
   ]
  },
  {
   "cell_type": "code",
   "execution_count": 12,
   "metadata": {},
   "outputs": [
    {
     "data": {
      "application/vnd.jupyter.widget-view+json": {
       "model_id": "985b6b99aa0d4e758b7723765cdb3cd5",
       "version_major": 2,
       "version_minor": 0
      },
      "text/plain": [
       "NGLWidget()"
      ]
     },
     "metadata": {},
     "output_type": "display_data"
    }
   ],
   "source": [
    "view = nv.show_mdanalysis(cg_universe)\n",
    "\n",
    "# clear representations\n",
    "#view.clear_representations()\n",
    "\n",
    "#view.add_representation('spacefill')\n",
    "view._remote_call(\"setSize\", target=\"Widget\", args=[\"1000px\", \"500px\"])\n",
    "#?view.center_view()\n",
    "\n",
    "# specify color\n",
    "view.add_representation('spacefill', selection=np.arange(169), color='blue', radius=1.5, opacity=0.85)\n",
    "view.add_representation('spacefill', selection=np.arange(169,300), color='red', radius=1.5, opacity=0.85)\n",
    "view.add_representation('cartoon', color='black')\n",
    "\n",
    "#view.component_1.add_surface(opacity=0.3)\n",
    "#view.download_image()\n",
    "#view.render_image(factor=6) # higher is better\n",
    "# need to run below command in different notebook cell\n",
    "#view._display_image()\n",
    "\n",
    "view"
   ]
  },
  {
   "cell_type": "code",
   "execution_count": null,
   "metadata": {},
   "outputs": [],
   "source": []
  },
  {
   "cell_type": "markdown",
   "metadata": {},
   "source": [
    "Repeat the process for the entire trajectory"
   ]
  },
  {
   "cell_type": "code",
   "execution_count": 13,
   "metadata": {},
   "outputs": [
    {
     "data": {
      "text/plain": [
       "<Universe with 300 atoms>"
      ]
     },
     "execution_count": 13,
     "metadata": {},
     "output_type": "execute_result"
    }
   ],
   "source": [
    "\n",
    "k = 0\n",
    "cg_traj_pos = []\n",
    "for ts in universe_aa_trajs[universe_index].trajectory:\n",
    "    \n",
    "    \n",
    "    _pos = []\n",
    "    for i in range(1, 301):\n",
    "    \n",
    "        idx = np.where(aa_cg_map.map == i)\n",
    "    #print(idx[0])\n",
    "    #for j in range(3):\n",
    "        \n",
    "        _pos.append( ts.positions[idx].mean(axis=0) )\n",
    "        \n",
    "    cg_traj_pos.append(_pos)\n",
    "\n",
    "\n",
    "cg_traj_pos = np.array(cg_traj_pos)\n",
    "### update universe\n",
    "cg_universe.load_new(cg_traj_pos, format=MemoryReader)\n"
   ]
  },
  {
   "cell_type": "code",
   "execution_count": 16,
   "metadata": {},
   "outputs": [
    {
     "data": {
      "text/plain": [
       "(5172, 5172)"
      ]
     },
     "execution_count": 16,
     "metadata": {},
     "output_type": "execute_result"
    }
   ],
   "source": [
    "# Check number of frames in CG and AA trajectories\n",
    "cg_universe.trajectory.n_frames, universe_aa_trajs[universe_index].trajectory.n_frames\n",
    "\n"
   ]
  },
  {
   "cell_type": "code",
   "execution_count": null,
   "metadata": {},
   "outputs": [],
   "source": [
    "\n"
   ]
  },
  {
   "cell_type": "markdown",
   "metadata": {},
   "source": [
    "#### visualize CG trajectory"
   ]
  },
  {
   "cell_type": "code",
   "execution_count": 17,
   "metadata": {},
   "outputs": [
    {
     "data": {
      "application/vnd.jupyter.widget-view+json": {
       "model_id": "f54db5b9078345a88c5b5446700c99a7",
       "version_major": 2,
       "version_minor": 0
      },
      "text/plain": [
       "NGLWidget(max_frame=5171)"
      ]
     },
     "metadata": {},
     "output_type": "display_data"
    }
   ],
   "source": [
    "view = nv.show_mdanalysis(cg_universe)\n",
    "\n",
    "# clear representations\n",
    "#view.clear_representations()\n",
    "\n",
    "#view.add_representation('spacefill')\n",
    "view._remote_call(\"setSize\", target=\"Widget\", args=[\"1000px\", \"500px\"])\n",
    "#?view.center_view()\n",
    "\n",
    "# specify color\n",
    "view.add_representation('spacefill', selection=np.arange(169), color='blue', radius=1.5, opacity=0.85)\n",
    "view.add_representation('spacefill', selection=np.arange(169,300), color='red', radius=1.5, opacity=0.85)\n",
    "view.add_representation('cartoon', color='black')\n",
    "\n",
    "view"
   ]
  },
  {
   "cell_type": "code",
   "execution_count": 91,
   "metadata": {},
   "outputs": [
    {
     "name": "stderr",
     "output_type": "stream",
     "text": [
      "/home1/03273/tg825722/.local/lib/python3.9/site-packages/MDAnalysis/coordinates/PDB.py:753: UserWarning: Unit cell dimensions not found. CRYST1 record set to unitary values.\n",
      "  warnings.warn(\"Unit cell dimensions not found. \"\n",
      "/home1/03273/tg825722/.local/lib/python3.9/site-packages/MDAnalysis/coordinates/PDB.py:1129: UserWarning: Found no information for attr: 'altLocs' Using default value of ' '\n",
      "  warnings.warn(\"Found no information for attr: '{}'\"\n",
      "/home1/03273/tg825722/.local/lib/python3.9/site-packages/MDAnalysis/coordinates/PDB.py:1129: UserWarning: Found no information for attr: 'resnames' Using default value of 'UNK'\n",
      "  warnings.warn(\"Found no information for attr: '{}'\"\n",
      "/home1/03273/tg825722/.local/lib/python3.9/site-packages/MDAnalysis/coordinates/PDB.py:1129: UserWarning: Found no information for attr: 'icodes' Using default value of ' '\n",
      "  warnings.warn(\"Found no information for attr: '{}'\"\n",
      "/home1/03273/tg825722/.local/lib/python3.9/site-packages/MDAnalysis/coordinates/PDB.py:1129: UserWarning: Found no information for attr: 'chainIDs' Using default value of ''\n",
      "  warnings.warn(\"Found no information for attr: '{}'\"\n",
      "/home1/03273/tg825722/.local/lib/python3.9/site-packages/MDAnalysis/coordinates/PDB.py:1129: UserWarning: Found no information for attr: 'occupancies' Using default value of '1.0'\n",
      "  warnings.warn(\"Found no information for attr: '{}'\"\n",
      "/home1/03273/tg825722/.local/lib/python3.9/site-packages/MDAnalysis/coordinates/PDB.py:1129: UserWarning: Found no information for attr: 'tempfactors' Using default value of '0.0'\n",
      "  warnings.warn(\"Found no information for attr: '{}'\"\n",
      "/home1/03273/tg825722/.local/lib/python3.9/site-packages/MDAnalysis/coordinates/PDB.py:1129: UserWarning: Found no information for attr: 'elements' Using default value of ' '\n",
      "  warnings.warn(\"Found no information for attr: '{}'\"\n",
      "/home1/03273/tg825722/.local/lib/python3.9/site-packages/MDAnalysis/coordinates/PDB.py:1129: UserWarning: Found no information for attr: 'record_types' Using default value of 'ATOM'\n",
      "  warnings.warn(\"Found no information for attr: '{}'\"\n",
      "/home1/03273/tg825722/.local/lib/python3.9/site-packages/MDAnalysis/coordinates/PDB.py:1129: UserWarning: Found no information for attr: 'formalcharges' Using default value of '0'\n",
      "  warnings.warn(\"Found no information for attr: '{}'\"\n",
      "/home1/03273/tg825722/.local/lib/python3.9/site-packages/MDAnalysis/coordinates/PDB.py:1176: UserWarning: Found missing chainIDs. Corresponding atoms will use value of 'X'\n",
      "  warnings.warn(\"Found missing chainIDs.\"\n"
     ]
    }
   ],
   "source": [
    "#### save to memory \n",
    "\n",
    "#cg_atoms = cg_universe.select_atoms(\"name CG\")\n",
    "#cg_atoms.write(\"../../../integrin/all-atom/cg_open.pdb\")\n",
    "#cg_atoms.write('integrin/all-atom/cg_open.xtc', frames='all')"
   ]
  },
  {
   "cell_type": "code",
   "execution_count": 92,
   "metadata": {},
   "outputs": [],
   "source": []
  },
  {
   "cell_type": "code",
   "execution_count": null,
   "metadata": {},
   "outputs": [],
   "source": []
  },
  {
   "cell_type": "code",
   "execution_count": 18,
   "metadata": {},
   "outputs": [
    {
     "name": "stderr",
     "output_type": "stream",
     "text": [
      "/project2/andrewferguson/sivadasetty/doe/elss/lib/python3.9/site-packages/MDAnalysis/topology/PDBParser.py:331: UserWarning: Element information is missing, elements attribute will not be populated. If needed these can be guessed using MDAnalysis.topology.guessers.\n",
      "  warnings.warn(\"Element information is missing, elements attribute \"\n",
      "/project2/andrewferguson/sivadasetty/doe/elss/lib/python3.9/site-packages/MDAnalysis/lib/mdamath.py:295: RuntimeWarning: invalid value encountered in scalar divide\n",
      "  alpha = np.rad2deg(np.arccos(np.dot(y, z) / (ly * lz)))\n",
      "/project2/andrewferguson/sivadasetty/doe/elss/lib/python3.9/site-packages/MDAnalysis/lib/mdamath.py:296: RuntimeWarning: invalid value encountered in scalar divide\n",
      "  beta = np.rad2deg(np.arccos(np.dot(x, z) / (lx * lz)))\n",
      "/project2/andrewferguson/sivadasetty/doe/elss/lib/python3.9/site-packages/MDAnalysis/lib/mdamath.py:297: RuntimeWarning: invalid value encountered in scalar divide\n",
      "  gamma = np.rad2deg(np.arccos(np.dot(x, y) / (lx * ly)))\n"
     ]
    }
   ],
   "source": [
    "##### load from memory and check\n",
    "check_cg_universe = mda.Universe('../../../integrin/all-atom/cg_open.pdb', '../../../integrin/all-atom/cg_open.xtc')"
   ]
  },
  {
   "cell_type": "code",
   "execution_count": 19,
   "metadata": {},
   "outputs": [
    {
     "data": {
      "text/plain": [
       "<Universe with 300 atoms>"
      ]
     },
     "execution_count": 19,
     "metadata": {},
     "output_type": "execute_result"
    }
   ],
   "source": [
    "check_cg_universe"
   ]
  },
  {
   "cell_type": "code",
   "execution_count": 20,
   "metadata": {},
   "outputs": [
    {
     "data": {
      "text/plain": [
       "300"
      ]
     },
     "execution_count": 20,
     "metadata": {},
     "output_type": "execute_result"
    }
   ],
   "source": [
    "check_cg_universe.atoms.n_atoms"
   ]
  },
  {
   "cell_type": "code",
   "execution_count": 21,
   "metadata": {},
   "outputs": [
    {
     "data": {
      "application/vnd.jupyter.widget-view+json": {
       "model_id": "b9a1e97b07af4f7695044b59c81fe864",
       "version_major": 2,
       "version_minor": 0
      },
      "text/plain": [
       "NGLWidget(max_frame=5171)"
      ]
     },
     "metadata": {},
     "output_type": "display_data"
    }
   ],
   "source": [
    "view = nv.show_mdanalysis(check_cg_universe)\n",
    "\n",
    "# clear representations\n",
    "#view.clear_representations()\n",
    "\n",
    "#view.add_representation('spacefill')\n",
    "view._remote_call(\"setSize\", target=\"Widget\", args=[\"1000px\", \"500px\"])\n",
    "#?view.center_view()\n",
    "\n",
    "# specify color\n",
    "view.add_representation('spacefill', selection=np.arange(169), color='blue', radius=1.5, opacity=0.85)\n",
    "view.add_representation('spacefill', selection=np.arange(169,300), color='red', radius=1.5, opacity=0.85)\n",
    "view.add_representation('cartoon', color='black')\n",
    "\n",
    "\n",
    "view"
   ]
  },
  {
   "cell_type": "code",
   "execution_count": null,
   "metadata": {},
   "outputs": [],
   "source": []
  },
  {
   "cell_type": "code",
   "execution_count": null,
   "metadata": {},
   "outputs": [],
   "source": []
  },
  {
   "cell_type": "markdown",
   "metadata": {},
   "source": [
    "Create SI tables in manuscript: read aa to cg mapping and save to .tex file"
   ]
  },
  {
   "cell_type": "code",
   "execution_count": 69,
   "metadata": {},
   "outputs": [
    {
     "name": "stderr",
     "output_type": "stream",
     "text": [
      "/tmp/ipykernel_9128/2647826261.py:16: FutureWarning: In a future version of pandas all arguments of DataFrame.pivot will be keyword-only.\n",
      "  df = df.assign(rows=np.tile(np.arange(rows), cols)[:length],\n"
     ]
    }
   ],
   "source": [
    "####\n",
    "select_map = 'ba_bent'\n",
    "\n",
    "aa_cg_map = pd.read_csv('../../../integrin/all-atom/' + select_map + '.dat', names=['Bead'])\n",
    "aa_cg_map['Residue'] = aa_cg_map.index\n",
    "aa_cg_map = aa_cg_map[['Residue', 'Bead']]\n",
    "\n",
    "\n",
    "# Grouping by 'Col1' and combining 'Col2' values\n",
    "#aa_cg_map_grouped = aa_cg_map.groupby('Bead')['Residue'].apply(lambda x: ', '.join(map(str, x))).reset_index()\n",
    "aa_cg_map_grouped = aa_cg_map.groupby('Bead')['Residue'].apply(lambda x: f\"{x.min()} - {x.max()}\").reset_index()\n",
    "\n",
    "def reshape(df, rows=60):\n",
    "    length = len(df)\n",
    "    cols = np.ceil(length / rows).astype(int)\n",
    "    df = df.assign(rows=np.tile(np.arange(rows), cols)[:length], \n",
    "                   cols=np.repeat(np.arange(cols), rows)[:length]) \\\n",
    "           .pivot('rows', 'cols', df.columns.tolist()) \\\n",
    "           .sort_index(level=1, axis=1).droplevel(level=1, axis=1).rename_axis(None)\n",
    "    return df\n",
    "\n",
    "aa_cg_map_grouped_wrapped = reshape(aa_cg_map_grouped)"
   ]
  },
  {
   "cell_type": "code",
   "execution_count": 65,
   "metadata": {},
   "outputs": [],
   "source": [
    "#aa_cg_map_grouped_wrapped"
   ]
  },
  {
   "cell_type": "code",
   "execution_count": 66,
   "metadata": {},
   "outputs": [],
   "source": [
    "for c in range(11):\n",
    "    with open('si_table_1.tex','w') as tf:\n",
    "        styler = aa_cg_map_grouped_wrapped.style.hide(axis='index')\n",
    "        tf.write(styler.to_latex(caption=r'Mapping of residues in bent-closed, extended-Int 1, and extended-Int 2 state to 300 bead CG model.',                                 \n",
    "                       label='table'+str(c), hrules=True,\n",
    "                       environment=\"longtable\",\n",
    "                       column_format='|p{0.6cm}|p{1.45cm}||p{0.6cm}|p{1.45cm}||p{0.6cm}|p{1.45cm}||p{0.6cm}|p{1.45cm}||p{0.6cm}|p{1.45cm}|'))\n",
    "        "
   ]
  },
  {
   "cell_type": "code",
   "execution_count": null,
   "metadata": {},
   "outputs": [],
   "source": []
  },
  {
   "cell_type": "code",
   "execution_count": null,
   "metadata": {},
   "outputs": [],
   "source": [
    "####\n",
    "select_map = 'ba_open'\n",
    "\n",
    "aa_cg_map = pd.read_csv('../../../integrin/all-atom/' + select_map + '.dat', names=['Bead'])\n",
    "aa_cg_map['Residue'] = aa_cg_map.index\n",
    "aa_cg_map = aa_cg_map[['Residue', 'Bead']]\n",
    "\n",
    "\n",
    "# Grouping by 'Col1' and combining 'Col2' values\n",
    "#aa_cg_map_grouped = aa_cg_map.groupby('Bead')['Residue'].apply(lambda x: ', '.join(map(str, x))).reset_index()\n",
    "aa_cg_map_grouped = aa_cg_map.groupby('Bead')['Residue'].apply(lambda x: f\"{x.min()} - {x.max()}\").reset_index()\n",
    "\n",
    "def reshape(df, rows=60):\n",
    "    length = len(df)\n",
    "    cols = np.ceil(length / rows).astype(int)\n",
    "    df = df.assign(rows=np.tile(np.arange(rows), cols)[:length], \n",
    "                   cols=np.repeat(np.arange(cols), rows)[:length]) \\\n",
    "           .pivot('rows', 'cols', df.columns.tolist()) \\\n",
    "           .sort_index(level=1, axis=1).droplevel(level=1, axis=1).rename_axis(None)\n",
    "    return df\n",
    "\n",
    "aa_cg_map_grouped_wrapped = reshape(aa_cg_map_grouped)"
   ]
  },
  {
   "cell_type": "code",
   "execution_count": 71,
   "metadata": {},
   "outputs": [],
   "source": [
    "for c in range(11):\n",
    "    with open('si_table_2.tex','w') as tf:\n",
    "        styler = aa_cg_map_grouped_wrapped.style.hide(axis='index')\n",
    "        tf.write(styler.to_latex(caption=r'Mapping of residues in extended-open state to 300 bead CG model.',                                 \n",
    "                       label='table'+str(c), hrules=True,\n",
    "                       environment=\"longtable\",\n",
    "                       column_format='|p{0.6cm}|p{1.45cm}||p{0.6cm}|p{1.45cm}||p{0.6cm}|p{1.45cm}||p{0.6cm}|p{1.45cm}||p{0.6cm}|p{1.45cm}|'))\n",
    "        "
   ]
  },
  {
   "cell_type": "code",
   "execution_count": null,
   "metadata": {},
   "outputs": [],
   "source": []
  }
 ],
 "metadata": {
  "kernelspec": {
   "display_name": "Python 3 (ipykernel)",
   "language": "python",
   "name": "python3"
  },
  "language_info": {
   "codemirror_mode": {
    "name": "ipython",
    "version": 3
   },
   "file_extension": ".py",
   "mimetype": "text/x-python",
   "name": "python",
   "nbconvert_exporter": "python",
   "pygments_lexer": "ipython3",
   "version": "3.9.15"
  }
 },
 "nbformat": 4,
 "nbformat_minor": 4
}
