{
 "cells": [
  {
   "cell_type": "markdown",
   "metadata": {},
   "source": [
    "## Integrin\n",
    "## Slow modes using DMap"
   ]
  },
  {
   "cell_type": "markdown",
   "metadata": {},
   "source": [
    "## setup"
   ]
  },
  {
   "cell_type": "code",
   "execution_count": null,
   "metadata": {},
   "outputs": [],
   "source": []
  },
  {
   "cell_type": "code",
   "execution_count": 4,
   "metadata": {},
   "outputs": [
    {
     "name": "stdout",
     "output_type": "stream",
     "text": [
      "no display found. Using non-interactive Agg backend\n"
     ]
    },
    {
     "data": {
      "application/vnd.jupyter.widget-view+json": {
       "model_id": "72306ef7304649928c64afff92c93b94",
       "version_major": 2,
       "version_minor": 0
      },
      "text/plain": []
     },
     "metadata": {},
     "output_type": "display_data"
    }
   ],
   "source": [
    "import os\n",
    "import sys\n",
    "import math\n",
    "import time\n",
    "import pickle\n",
    "import copy\n",
    "import mdtraj\n",
    "import MDAnalysis as mda\n",
    "#import pyemma\n",
    "#import pyemma.util.contexts\n",
    "import networkx as nx\n",
    "import random\n",
    "#import parmed as pmd\n",
    "import acpype\n",
    "import pandas as pd\n",
    "from MDAnalysis.analysis import distances\n",
    "\n",
    "\n",
    "import numpy as np\n",
    "from scipy.linalg import eigh\n",
    "from scipy.spatial.distance import pdist\n",
    "from scipy.interpolate import interp1d\n",
    "import matplotlib as mpl\n",
    "from matplotlib import ticker\n",
    "if os.environ.get('DISPLAY','') == '':\n",
    "    print('no display found. Using non-interactive Agg backend')\n",
    "    mpl.use('Agg')\n",
    "import matplotlib.pyplot as plt\n",
    "from mpl_toolkits.mplot3d import Axes3D\n",
    "\n",
    "#import torch\n",
    "#import torch.optim as optim\n",
    "#import torch.nn as nn\n",
    "#from torchviz import make_dot\n",
    "#from torch.utils.data import Dataset, TensorDataset, DataLoader\n",
    "#from torch.utils.data.dataset import random_split\n",
    "from tqdm import tqdm\n",
    "\n",
    "#import deeptime\n",
    "#from deeptime.decomposition import TICA\n",
    "#from deeptime.clustering import KMeans\n",
    "#import mdshare\n",
    "\n",
    "from sklearn.preprocessing import MinMaxScaler\n",
    "\n",
    "from jax import numpy as jnp, jit, vmap\n",
    "from MDAnalysis.analysis import rms #diffusionmap, align, rms\n",
    "\n",
    "import nglview as nv\n",
    "import io\n",
    "from PIL import Image "
   ]
  },
  {
   "cell_type": "code",
   "execution_count": 5,
   "metadata": {},
   "outputs": [],
   "source": [
    "#from env_snrv.snrv.snrv.snrv import Snrv, load_snrv\n",
    "#from codes.dMap_JAX import dMap_jax\n",
    "#from codes.dMap_JAX import diff_plots"
   ]
  },
  {
   "cell_type": "markdown",
   "metadata": {},
   "source": [
    "#### plot settings"
   ]
  },
  {
   "cell_type": "code",
   "execution_count": 6,
   "metadata": {},
   "outputs": [],
   "source": [
    "showPlots=1\n",
    "useMagics=1\n",
    "if useMagics:\n",
    "    %matplotlib inline\n",
    "    #%matplotlib notebook\n",
    "    %load_ext autoreload\n",
    "    %autoreload 2\n",
    "    %reload_ext autoreload\n",
    "    \n",
    "font = {'weight' : 'normal',\n",
    "        'size'   : 25}\n",
    "\n",
    "plt.rc('font', **font)"
   ]
  },
  {
   "cell_type": "code",
   "execution_count": null,
   "metadata": {},
   "outputs": [],
   "source": []
  },
  {
   "cell_type": "code",
   "execution_count": null,
   "metadata": {},
   "outputs": [],
   "source": []
  },
  {
   "cell_type": "markdown",
   "metadata": {},
   "source": [
    "#### load all-atom integrin trajectories (different integrin type)"
   ]
  },
  {
   "cell_type": "code",
   "execution_count": null,
   "metadata": {},
   "outputs": [],
   "source": [
    "universe_aa_trajs = []\n",
    "\n",
    "for rep in ['bent', 'int1', 'int2', 'open']: #, '0d01_10',  '0d01_5']:\n",
    "\n",
    "    file_aa_traj_bent = 'integrin/all-atom/' + rep + '_0_500_ns.pdb'\n",
    "\n",
    "    universe_aa_trajs.append( mda.Universe(file_aa_traj_bent) )\n",
    "    \n"
   ]
  },
  {
   "cell_type": "code",
   "execution_count": null,
   "metadata": {},
   "outputs": [],
   "source": [
    "universe_aa_trajs[0].atoms.n_atoms"
   ]
  },
  {
   "cell_type": "code",
   "execution_count": null,
   "metadata": {},
   "outputs": [],
   "source": [
    "np.arange(1008)"
   ]
  },
  {
   "cell_type": "markdown",
   "metadata": {},
   "source": [
    "#### visualize all-atom trajectories"
   ]
  },
  {
   "cell_type": "code",
   "execution_count": null,
   "metadata": {},
   "outputs": [],
   "source": [
    "view = nv.show_mdanalysis(universe_aa_trajs[3])\n",
    "\n",
    "# clear representations\n",
    "#view.clear_representations()\n",
    "\n",
    "#view.add_representation('spacefill')\n",
    "view._remote_call(\"setSize\", target=\"Widget\", args=[\"1000px\", \"500px\"])\n",
    "#?view.center_view()\n",
    "\n",
    "# specify color\n",
    "view.add_representation('spacefill', selection=np.arange(1008), color='blue', radius=1.5, opacity=0.85)\n",
    "#view.add_representation('spacefill', selection=np.arange(1008,1770), color='red', radius=1.5, opacity=0.85)\n",
    "view.add_representation('cartoon', color='black')\n",
    "\n",
    "# specify color\n",
    "#view.add_representation('spacefill', selection=list(np.arange(169)), color='blue', radius=5, opacity=0.85)\n",
    "#view.add_representation('spacefill', selection=list(np.arange(169, 300)), color='red', radius=5)\n",
    "\n",
    "#view.add_representation('spacefill', selection=\"index 100 to 299\", color='red')\n",
    "\n",
    "#view.component_1.add_surface(opacity=0.3)\n",
    "#view.download_image()\n",
    "#view.render_image(factor=6) # higher is better\n",
    "# need to run below command in different notebook cell\n",
    "#view._display_image()\n",
    "\n",
    "view"
   ]
  },
  {
   "cell_type": "code",
   "execution_count": 8,
   "metadata": {},
   "outputs": [
    {
     "data": {
      "text/plain": [
       "range(0, 300)"
      ]
     },
     "execution_count": 8,
     "metadata": {},
     "output_type": "execute_result"
    }
   ],
   "source": [
    "range(300)"
   ]
  },
  {
   "cell_type": "markdown",
   "metadata": {},
   "source": [
    "#### write CG from all atom"
   ]
  },
  {
   "cell_type": "code",
   "execution_count": null,
   "metadata": {},
   "outputs": [],
   "source": [
    "### create a universe for CG model [from example in MDAnalysis]\n",
    "\n",
    "n_residues = 300\n",
    "n_atoms = n_residues\n",
    "\n",
    "# create resindex list\n",
    "resindices = np.arange(n_residues)\n",
    "\n",
    "# all water molecules belong to 1 segment\n",
    "segindices = [0] * n_residues\n",
    "\n",
    "# create the Universe\n",
    "cg_universe = mda.Universe.empty(n_atoms,\n",
    "                                 n_residues=n_residues,\n",
    "                                 atom_resindex=resindices,\n",
    "                                 residue_segindex=segindices,\n",
    "                                 trajectory=True) # necessary for adding coordinates"
   ]
  },
  {
   "cell_type": "code",
   "execution_count": 70,
   "metadata": {},
   "outputs": [],
   "source": [
    "#cg_universe.trajectory[0].positions"
   ]
  },
  {
   "cell_type": "code",
   "execution_count": 85,
   "metadata": {},
   "outputs": [],
   "source": [
    "### topology attributes\n",
    "from MDAnalysis.coordinates.memory import MemoryReader\n",
    "\n",
    "cg_universe.add_TopologyAttr('name', ['CG']*n_residues)\n",
    "cg_universe.add_TopologyAttr('type', ['CG']*n_residues)\n",
    "cg_universe.add_TopologyAttr('resid', list(range(1, n_residues+1)))\n",
    "cg_universe.add_TopologyAttr('segid', ['INT'])\n",
    "\n",
    "#### frame 0 positions\n",
    "\n",
    "####\n",
    "select_map = 'ba_open'\n",
    "universe_index = 3\n",
    "\n",
    "aa_cg_map = pd.read_csv('integrin/all-atom/' + select_map + '.dat', names=['map'])\n",
    "\n",
    "k = 0\n",
    "cg_traj_pos = []\n",
    "\n",
    "cg_pos_frame_0 = []\n",
    "for i in range(1, 301):\n",
    "    \n",
    "    idx = np.where(aa_cg_map.map == i)\n",
    "        \n",
    "    cg_pos_frame_0.append( universe_aa_trajs[universe_index].trajectory[0].positions[idx].mean(axis=0) )\n",
    "        \n",
    "\n",
    "cg_pos_frame_0 = np.array(cg_pos_frame_0)\n",
    "\n",
    "cg_universe.atoms.positions = cg_pos_frame_0"
   ]
  },
  {
   "cell_type": "code",
   "execution_count": null,
   "metadata": {},
   "outputs": [],
   "source": []
  },
  {
   "cell_type": "markdown",
   "metadata": {},
   "source": [
    "##### visualize"
   ]
  },
  {
   "cell_type": "code",
   "execution_count": null,
   "metadata": {},
   "outputs": [],
   "source": [
    "view = nv.add_mdanalysis(cg_universe)\n",
    "\n",
    "# clear representations\n",
    "#view.clear_representations()\n",
    "\n",
    "#view.add_representation('spacefill')\n",
    "view._remote_call(\"setSize\", target=\"Widget\", args=[\"1000px\", \"500px\"])\n",
    "#?view.center_view()\n",
    "\n",
    "# specify color\n",
    "view.add_representation('spacefill', selection=np.arange(169), color='blue', radius=1.5, opacity=0.85)\n",
    "view.add_representation('spacefill', selection=np.arange(169,300), color='red', radius=1.5, opacity=0.85)\n",
    "view.add_representation('cartoon', color='black')\n",
    "\n",
    "# specify color\n",
    "#view.add_representation('spacefill', selection=list(np.arange(169)), color='blue', radius=5, opacity=0.85)\n",
    "#view.add_representation('spacefill', selection=list(np.arange(169, 300)), color='red', radius=5)\n",
    "\n",
    "#view.add_representation('spacefill', selection=\"index 100 to 299\", color='red')\n",
    "\n",
    "#view.component_1.add_surface(opacity=0.3)\n",
    "#view.download_image()\n",
    "#view.render_image(factor=6) # higher is better\n",
    "# need to run below command in different notebook cell\n",
    "#view._display_image()\n",
    "\n",
    "view"
   ]
  },
  {
   "cell_type": "code",
   "execution_count": null,
   "metadata": {},
   "outputs": [],
   "source": []
  },
  {
   "cell_type": "code",
   "execution_count": null,
   "metadata": {},
   "outputs": [],
   "source": []
  },
  {
   "cell_type": "code",
   "execution_count": 87,
   "metadata": {},
   "outputs": [
    {
     "data": {
      "text/plain": [
       "<Universe with 300 atoms>"
      ]
     },
     "execution_count": 87,
     "metadata": {},
     "output_type": "execute_result"
    }
   ],
   "source": [
    "\n",
    "k = 0\n",
    "cg_traj_pos = []\n",
    "for ts in universe_aa_trajs[universe_index].trajectory:\n",
    "    \n",
    "    \n",
    "    _pos = []\n",
    "    for i in range(1, 301):\n",
    "    \n",
    "        idx = np.where(aa_cg_map.map == i)\n",
    "    #print(idx[0])\n",
    "    #for j in range(3):\n",
    "        \n",
    "        _pos.append( ts.positions[idx].mean(axis=0) )\n",
    "        \n",
    "    cg_traj_pos.append(_pos)\n",
    "\n",
    "\n",
    "cg_traj_pos = np.array(cg_traj_pos)\n",
    "### update universe\n",
    "cg_universe.load_new(cg_traj_pos, format=MemoryReader)\n"
   ]
  },
  {
   "cell_type": "code",
   "execution_count": 88,
   "metadata": {},
   "outputs": [
    {
     "data": {
      "text/plain": [
       "5172"
      ]
     },
     "execution_count": 88,
     "metadata": {},
     "output_type": "execute_result"
    }
   ],
   "source": [
    "\n",
    "cg_universe.trajectory.n_frames\n"
   ]
  },
  {
   "cell_type": "code",
   "execution_count": 89,
   "metadata": {},
   "outputs": [
    {
     "data": {
      "text/plain": [
       "5172"
      ]
     },
     "execution_count": 89,
     "metadata": {},
     "output_type": "execute_result"
    }
   ],
   "source": [
    "\n",
    "universe_aa_trajs[universe_index].trajectory.n_frames\n"
   ]
  },
  {
   "cell_type": "markdown",
   "metadata": {},
   "source": [
    "#### visualize CG trajectory"
   ]
  },
  {
   "cell_type": "code",
   "execution_count": 90,
   "metadata": {},
   "outputs": [
    {
     "data": {
      "application/vnd.jupyter.widget-view+json": {
       "model_id": "744b73c4fb4d4e99becb4473d25c6866",
       "version_major": 2,
       "version_minor": 0
      },
      "text/plain": [
       "NGLWidget(max_frame=5171)"
      ]
     },
     "metadata": {},
     "output_type": "display_data"
    }
   ],
   "source": [
    "view = nv.show_mdanalysis(cg_universe)\n",
    "\n",
    "# clear representations\n",
    "#view.clear_representations()\n",
    "\n",
    "#view.add_representation('spacefill')\n",
    "view._remote_call(\"setSize\", target=\"Widget\", args=[\"1000px\", \"500px\"])\n",
    "#?view.center_view()\n",
    "\n",
    "# specify color\n",
    "view.add_representation('spacefill', selection=np.arange(169), color='blue', radius=1.5, opacity=0.85)\n",
    "view.add_representation('spacefill', selection=np.arange(169,300), color='red', radius=1.5, opacity=0.85)\n",
    "view.add_representation('cartoon', color='black')\n",
    "\n",
    "# specify color\n",
    "#view.add_representation('spacefill', selection=list(np.arange(169)), color='blue', radius=5, opacity=0.85)\n",
    "#view.add_representation('spacefill', selection=list(np.arange(169, 300)), color='red', radius=5)\n",
    "\n",
    "#view.add_representation('spacefill', selection=\"index 100 to 299\", color='red')\n",
    "\n",
    "#view.component_1.add_surface(opacity=0.3)\n",
    "#view.download_image()\n",
    "#view.render_image(factor=6) # higher is better\n",
    "# need to run below command in different notebook cell\n",
    "#view._display_image()\n",
    "\n",
    "view"
   ]
  },
  {
   "cell_type": "code",
   "execution_count": 91,
   "metadata": {},
   "outputs": [
    {
     "name": "stderr",
     "output_type": "stream",
     "text": [
      "/home1/03273/tg825722/.local/lib/python3.9/site-packages/MDAnalysis/coordinates/PDB.py:753: UserWarning: Unit cell dimensions not found. CRYST1 record set to unitary values.\n",
      "  warnings.warn(\"Unit cell dimensions not found. \"\n",
      "/home1/03273/tg825722/.local/lib/python3.9/site-packages/MDAnalysis/coordinates/PDB.py:1129: UserWarning: Found no information for attr: 'altLocs' Using default value of ' '\n",
      "  warnings.warn(\"Found no information for attr: '{}'\"\n",
      "/home1/03273/tg825722/.local/lib/python3.9/site-packages/MDAnalysis/coordinates/PDB.py:1129: UserWarning: Found no information for attr: 'resnames' Using default value of 'UNK'\n",
      "  warnings.warn(\"Found no information for attr: '{}'\"\n",
      "/home1/03273/tg825722/.local/lib/python3.9/site-packages/MDAnalysis/coordinates/PDB.py:1129: UserWarning: Found no information for attr: 'icodes' Using default value of ' '\n",
      "  warnings.warn(\"Found no information for attr: '{}'\"\n",
      "/home1/03273/tg825722/.local/lib/python3.9/site-packages/MDAnalysis/coordinates/PDB.py:1129: UserWarning: Found no information for attr: 'chainIDs' Using default value of ''\n",
      "  warnings.warn(\"Found no information for attr: '{}'\"\n",
      "/home1/03273/tg825722/.local/lib/python3.9/site-packages/MDAnalysis/coordinates/PDB.py:1129: UserWarning: Found no information for attr: 'occupancies' Using default value of '1.0'\n",
      "  warnings.warn(\"Found no information for attr: '{}'\"\n",
      "/home1/03273/tg825722/.local/lib/python3.9/site-packages/MDAnalysis/coordinates/PDB.py:1129: UserWarning: Found no information for attr: 'tempfactors' Using default value of '0.0'\n",
      "  warnings.warn(\"Found no information for attr: '{}'\"\n",
      "/home1/03273/tg825722/.local/lib/python3.9/site-packages/MDAnalysis/coordinates/PDB.py:1129: UserWarning: Found no information for attr: 'elements' Using default value of ' '\n",
      "  warnings.warn(\"Found no information for attr: '{}'\"\n",
      "/home1/03273/tg825722/.local/lib/python3.9/site-packages/MDAnalysis/coordinates/PDB.py:1129: UserWarning: Found no information for attr: 'record_types' Using default value of 'ATOM'\n",
      "  warnings.warn(\"Found no information for attr: '{}'\"\n",
      "/home1/03273/tg825722/.local/lib/python3.9/site-packages/MDAnalysis/coordinates/PDB.py:1129: UserWarning: Found no information for attr: 'formalcharges' Using default value of '0'\n",
      "  warnings.warn(\"Found no information for attr: '{}'\"\n",
      "/home1/03273/tg825722/.local/lib/python3.9/site-packages/MDAnalysis/coordinates/PDB.py:1176: UserWarning: Found missing chainIDs. Corresponding atoms will use value of 'X'\n",
      "  warnings.warn(\"Found missing chainIDs.\"\n"
     ]
    }
   ],
   "source": [
    "#### save to memory\n",
    "cg_atoms = cg_universe.select_atoms(\"name CG\")\n",
    "cg_atoms.write(\"integrin/all-atom/cg_open.pdb\")"
   ]
  },
  {
   "cell_type": "code",
   "execution_count": 92,
   "metadata": {},
   "outputs": [],
   "source": [
    "cg_atoms.write('integrin/all-atom/cg_open.xtc', frames='all')"
   ]
  },
  {
   "cell_type": "code",
   "execution_count": null,
   "metadata": {},
   "outputs": [],
   "source": []
  },
  {
   "cell_type": "code",
   "execution_count": 93,
   "metadata": {},
   "outputs": [
    {
     "name": "stderr",
     "output_type": "stream",
     "text": [
      "/home1/03273/tg825722/.local/lib/python3.9/site-packages/MDAnalysis/topology/PDBParser.py:328: UserWarning: Element information is missing, elements attribute will not be populated. If needed these can be guessed using MDAnalysis.topology.guessers.\n",
      "  warnings.warn(\"Element information is missing, elements attribute \"\n",
      "/home1/03273/tg825722/.local/lib/python3.9/site-packages/MDAnalysis/lib/mdamath.py:300: RuntimeWarning: invalid value encountered in scalar divide\n",
      "  alpha = np.rad2deg(np.arccos(np.dot(y, z) / (ly * lz)))\n",
      "/home1/03273/tg825722/.local/lib/python3.9/site-packages/MDAnalysis/lib/mdamath.py:301: RuntimeWarning: invalid value encountered in scalar divide\n",
      "  beta = np.rad2deg(np.arccos(np.dot(x, z) / (lx * lz)))\n",
      "/home1/03273/tg825722/.local/lib/python3.9/site-packages/MDAnalysis/lib/mdamath.py:302: RuntimeWarning: invalid value encountered in scalar divide\n",
      "  gamma = np.rad2deg(np.arccos(np.dot(x, y) / (lx * ly)))\n"
     ]
    }
   ],
   "source": [
    "##### load from memory and check\n",
    "check_cg_universe = mda.Universe('integrin/all-atom/cg_open.pdb', 'integrin/all-atom/cg_open.xtc')"
   ]
  },
  {
   "cell_type": "code",
   "execution_count": 94,
   "metadata": {},
   "outputs": [
    {
     "data": {
      "text/plain": [
       "<Universe with 300 atoms>"
      ]
     },
     "execution_count": 94,
     "metadata": {},
     "output_type": "execute_result"
    }
   ],
   "source": [
    "check_cg_universe"
   ]
  },
  {
   "cell_type": "code",
   "execution_count": 95,
   "metadata": {},
   "outputs": [
    {
     "data": {
      "text/plain": [
       "300"
      ]
     },
     "execution_count": 95,
     "metadata": {},
     "output_type": "execute_result"
    }
   ],
   "source": [
    "check_cg_universe.atoms.n_atoms"
   ]
  },
  {
   "cell_type": "code",
   "execution_count": 96,
   "metadata": {},
   "outputs": [
    {
     "data": {
      "application/vnd.jupyter.widget-view+json": {
       "model_id": "50c68cb60cd948a985e54b4faad40eee",
       "version_major": 2,
       "version_minor": 0
      },
      "text/plain": [
       "NGLWidget(max_frame=5171)"
      ]
     },
     "metadata": {},
     "output_type": "display_data"
    }
   ],
   "source": [
    "view = nv.show_mdanalysis(check_cg_universe)\n",
    "\n",
    "# clear representations\n",
    "#view.clear_representations()\n",
    "\n",
    "#view.add_representation('spacefill')\n",
    "view._remote_call(\"setSize\", target=\"Widget\", args=[\"1000px\", \"500px\"])\n",
    "#?view.center_view()\n",
    "\n",
    "# specify color\n",
    "view.add_representation('spacefill', selection=np.arange(169), color='blue', radius=1.5, opacity=0.85)\n",
    "view.add_representation('spacefill', selection=np.arange(169,300), color='red', radius=1.5, opacity=0.85)\n",
    "view.add_representation('cartoon', color='black')\n",
    "\n",
    "# specify color\n",
    "#view.add_representation('spacefill', selection=list(np.arange(169)), color='blue', radius=5, opacity=0.85)\n",
    "#view.add_representation('spacefill', selection=list(np.arange(169, 300)), color='red', radius=5)\n",
    "\n",
    "#view.add_representation('spacefill', selection=\"index 100 to 299\", color='red')\n",
    "\n",
    "#view.component_1.add_surface(opacity=0.3)\n",
    "#view.download_image()\n",
    "#view.render_image(factor=6) # higher is better\n",
    "# need to run below command in different notebook cell\n",
    "#view._display_image()\n",
    "\n",
    "view"
   ]
  },
  {
   "cell_type": "code",
   "execution_count": null,
   "metadata": {},
   "outputs": [],
   "source": []
  },
  {
   "cell_type": "code",
   "execution_count": 145,
   "metadata": {},
   "outputs": [
    {
     "data": {
      "text/plain": [
       "(1749, 3)"
      ]
     },
     "execution_count": 145,
     "metadata": {},
     "output_type": "execute_result"
    }
   ],
   "source": [
    "universe_aa_cg_traj.trajectory[0].positions.shape"
   ]
  },
  {
   "cell_type": "markdown",
   "metadata": {},
   "source": [
    "#### read aa to cg mapping and save to .tex file"
   ]
  },
  {
   "cell_type": "code",
   "execution_count": 69,
   "metadata": {},
   "outputs": [
    {
     "name": "stderr",
     "output_type": "stream",
     "text": [
      "/tmp/ipykernel_9128/2647826261.py:16: FutureWarning: In a future version of pandas all arguments of DataFrame.pivot will be keyword-only.\n",
      "  df = df.assign(rows=np.tile(np.arange(rows), cols)[:length],\n"
     ]
    }
   ],
   "source": [
    "####\n",
    "select_map = 'ba_bent'\n",
    "\n",
    "aa_cg_map = pd.read_csv('../../../integrin/all-atom/' + select_map + '.dat', names=['Bead'])\n",
    "aa_cg_map['Residue'] = aa_cg_map.index\n",
    "aa_cg_map = aa_cg_map[['Residue', 'Bead']]\n",
    "\n",
    "\n",
    "# Grouping by 'Col1' and combining 'Col2' values\n",
    "#aa_cg_map_grouped = aa_cg_map.groupby('Bead')['Residue'].apply(lambda x: ', '.join(map(str, x))).reset_index()\n",
    "aa_cg_map_grouped = aa_cg_map.groupby('Bead')['Residue'].apply(lambda x: f\"{x.min()} - {x.max()}\").reset_index()\n",
    "\n",
    "def reshape(df, rows=60):\n",
    "    length = len(df)\n",
    "    cols = np.ceil(length / rows).astype(int)\n",
    "    df = df.assign(rows=np.tile(np.arange(rows), cols)[:length], \n",
    "                   cols=np.repeat(np.arange(cols), rows)[:length]) \\\n",
    "           .pivot('rows', 'cols', df.columns.tolist()) \\\n",
    "           .sort_index(level=1, axis=1).droplevel(level=1, axis=1).rename_axis(None)\n",
    "    return df\n",
    "\n",
    "aa_cg_map_grouped_wrapped = reshape(aa_cg_map_grouped)"
   ]
  },
  {
   "cell_type": "code",
   "execution_count": 65,
   "metadata": {},
   "outputs": [],
   "source": [
    "#aa_cg_map_grouped_wrapped"
   ]
  },
  {
   "cell_type": "code",
   "execution_count": 66,
   "metadata": {},
   "outputs": [],
   "source": [
    "for c in range(11):\n",
    "    with open('si_table_1.tex','w') as tf:\n",
    "        styler = aa_cg_map_grouped_wrapped.style.hide(axis='index')\n",
    "        tf.write(styler.to_latex(caption=r'Mapping of residues in bent-closed, extended-Int 1, and extended-Int 2 state to 300 bead CG model.',                                 \n",
    "                       label='table'+str(c), hrules=True,\n",
    "                       environment=\"longtable\",\n",
    "                       column_format='|p{0.6cm}|p{1.45cm}||p{0.6cm}|p{1.45cm}||p{0.6cm}|p{1.45cm}||p{0.6cm}|p{1.45cm}||p{0.6cm}|p{1.45cm}|'))\n",
    "        "
   ]
  },
  {
   "cell_type": "code",
   "execution_count": null,
   "metadata": {},
   "outputs": [],
   "source": []
  },
  {
   "cell_type": "code",
   "execution_count": null,
   "metadata": {},
   "outputs": [],
   "source": [
    "####\n",
    "select_map = 'ba_open'\n",
    "\n",
    "aa_cg_map = pd.read_csv('../../../integrin/all-atom/' + select_map + '.dat', names=['Bead'])\n",
    "aa_cg_map['Residue'] = aa_cg_map.index\n",
    "aa_cg_map = aa_cg_map[['Residue', 'Bead']]\n",
    "\n",
    "\n",
    "# Grouping by 'Col1' and combining 'Col2' values\n",
    "#aa_cg_map_grouped = aa_cg_map.groupby('Bead')['Residue'].apply(lambda x: ', '.join(map(str, x))).reset_index()\n",
    "aa_cg_map_grouped = aa_cg_map.groupby('Bead')['Residue'].apply(lambda x: f\"{x.min()} - {x.max()}\").reset_index()\n",
    "\n",
    "def reshape(df, rows=60):\n",
    "    length = len(df)\n",
    "    cols = np.ceil(length / rows).astype(int)\n",
    "    df = df.assign(rows=np.tile(np.arange(rows), cols)[:length], \n",
    "                   cols=np.repeat(np.arange(cols), rows)[:length]) \\\n",
    "           .pivot('rows', 'cols', df.columns.tolist()) \\\n",
    "           .sort_index(level=1, axis=1).droplevel(level=1, axis=1).rename_axis(None)\n",
    "    return df\n",
    "\n",
    "aa_cg_map_grouped_wrapped = reshape(aa_cg_map_grouped)"
   ]
  },
  {
   "cell_type": "code",
   "execution_count": 71,
   "metadata": {},
   "outputs": [],
   "source": [
    "for c in range(11):\n",
    "    with open('si_table_2.tex','w') as tf:\n",
    "        styler = aa_cg_map_grouped_wrapped.style.hide(axis='index')\n",
    "        tf.write(styler.to_latex(caption=r'Mapping of residues in extended-open state to 300 bead CG model.',                                 \n",
    "                       label='table'+str(c), hrules=True,\n",
    "                       environment=\"longtable\",\n",
    "                       column_format='|p{0.6cm}|p{1.45cm}||p{0.6cm}|p{1.45cm}||p{0.6cm}|p{1.45cm}||p{0.6cm}|p{1.45cm}||p{0.6cm}|p{1.45cm}|'))\n",
    "        "
   ]
  },
  {
   "cell_type": "code",
   "execution_count": null,
   "metadata": {},
   "outputs": [],
   "source": []
  }
 ],
 "metadata": {
  "kernelspec": {
   "display_name": "lss",
   "language": "python",
   "name": "lss"
  },
  "language_info": {
   "codemirror_mode": {
    "name": "ipython",
    "version": 3
   },
   "file_extension": ".py",
   "mimetype": "text/x-python",
   "name": "python",
   "nbconvert_exporter": "python",
   "pygments_lexer": "ipython3",
   "version": "3.9.15"
  }
 },
 "nbformat": 4,
 "nbformat_minor": 4
}
